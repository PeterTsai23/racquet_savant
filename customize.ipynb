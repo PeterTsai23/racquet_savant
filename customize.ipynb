{
 "cells": [
  {
   "cell_type": "code",
   "execution_count": 21,
   "id": "b7b4f0a1",
   "metadata": {},
   "outputs": [],
   "source": [
    "# Import common dependencies\n",
    "import numpy as np\n",
    "import pandas as pd\n",
    "import matplotlib.pyplot as plt\n",
    "from pylab import *\n",
    "import streamlit as st\n",
    "import plotly.graph_objects as go\n",
    "import plotly.express as px\n",
    "from bokeh.palettes import viridis\n",
    "from math import *"
   ]
  },
  {
   "cell_type": "code",
   "execution_count": 2,
   "id": "20e50e6d",
   "metadata": {},
   "outputs": [],
   "source": [
    "# Get racquet specs dataframe\n",
    "df = pd.read_csv('racquet_database.csv')"
   ]
  },
  {
   "cell_type": "code",
   "execution_count": 3,
   "id": "87da5bee-baf9-47c3-bc1c-1562d4fe0ecc",
   "metadata": {},
   "outputs": [],
   "source": [
    "m1 = np.arange(0, 7.01, 0.01)\n",
    "m2 = np.arange(0, 7.01, 0.01)"
   ]
  },
  {
   "cell_type": "code",
   "execution_count": 4,
   "id": "259485c1-dd51-48fc-a10d-b847c9e23714",
   "metadata": {},
   "outputs": [],
   "source": [
    "xv, yv = np.meshgrid(m1, m2)"
   ]
  },
  {
   "cell_type": "code",
   "execution_count": 5,
   "id": "e61fcf88-033f-409b-b5c7-0273f671dc71",
   "metadata": {},
   "outputs": [],
   "source": [
    "w_tail = xv.reshape(-1, 1)\n",
    "w_tip = yv.reshape(-1, 1)\n",
    "w_pairs = np.concatenate((w_tail, w_tip), axis=1)"
   ]
  },
  {
   "cell_type": "code",
   "execution_count": 6,
   "id": "a5683c3b-7e3f-4539-8d28-a580c43cb81e",
   "metadata": {},
   "outputs": [
    {
     "data": {
      "text/plain": [
       "array([[0.  , 0.  ],\n",
       "       [0.01, 0.  ],\n",
       "       [0.02, 0.  ],\n",
       "       ...,\n",
       "       [6.98, 7.  ],\n",
       "       [6.99, 7.  ],\n",
       "       [7.  , 7.  ]])"
      ]
     },
     "execution_count": 6,
     "metadata": {},
     "output_type": "execute_result"
    }
   ],
   "source": [
    "w_pairs"
   ]
  },
  {
   "cell_type": "code",
   "execution_count": 37,
   "id": "7255dc1e-6ac1-4317-af2e-d1e147777319",
   "metadata": {},
   "outputs": [],
   "source": [
    "custom_df = pd.DataFrame(data=w_pairs, columns=['tail_weight', 'tip_weight'])"
   ]
  },
  {
   "cell_type": "code",
   "execution_count": 38,
   "id": "c0cb8df0-4da3-4dc0-900a-a53baf328066",
   "metadata": {},
   "outputs": [
    {
     "data": {
      "text/html": [
       "<div>\n",
       "<style scoped>\n",
       "    .dataframe tbody tr th:only-of-type {\n",
       "        vertical-align: middle;\n",
       "    }\n",
       "\n",
       "    .dataframe tbody tr th {\n",
       "        vertical-align: top;\n",
       "    }\n",
       "\n",
       "    .dataframe thead th {\n",
       "        text-align: right;\n",
       "    }\n",
       "</style>\n",
       "<table border=\"1\" class=\"dataframe\">\n",
       "  <thead>\n",
       "    <tr style=\"text-align: right;\">\n",
       "      <th></th>\n",
       "      <th>tail_weight</th>\n",
       "      <th>tip_weight</th>\n",
       "    </tr>\n",
       "  </thead>\n",
       "  <tbody>\n",
       "    <tr>\n",
       "      <th>0</th>\n",
       "      <td>0.00</td>\n",
       "      <td>0.0</td>\n",
       "    </tr>\n",
       "    <tr>\n",
       "      <th>1</th>\n",
       "      <td>0.01</td>\n",
       "      <td>0.0</td>\n",
       "    </tr>\n",
       "    <tr>\n",
       "      <th>2</th>\n",
       "      <td>0.02</td>\n",
       "      <td>0.0</td>\n",
       "    </tr>\n",
       "    <tr>\n",
       "      <th>3</th>\n",
       "      <td>0.03</td>\n",
       "      <td>0.0</td>\n",
       "    </tr>\n",
       "    <tr>\n",
       "      <th>4</th>\n",
       "      <td>0.04</td>\n",
       "      <td>0.0</td>\n",
       "    </tr>\n",
       "    <tr>\n",
       "      <th>...</th>\n",
       "      <td>...</td>\n",
       "      <td>...</td>\n",
       "    </tr>\n",
       "    <tr>\n",
       "      <th>491396</th>\n",
       "      <td>6.96</td>\n",
       "      <td>7.0</td>\n",
       "    </tr>\n",
       "    <tr>\n",
       "      <th>491397</th>\n",
       "      <td>6.97</td>\n",
       "      <td>7.0</td>\n",
       "    </tr>\n",
       "    <tr>\n",
       "      <th>491398</th>\n",
       "      <td>6.98</td>\n",
       "      <td>7.0</td>\n",
       "    </tr>\n",
       "    <tr>\n",
       "      <th>491399</th>\n",
       "      <td>6.99</td>\n",
       "      <td>7.0</td>\n",
       "    </tr>\n",
       "    <tr>\n",
       "      <th>491400</th>\n",
       "      <td>7.00</td>\n",
       "      <td>7.0</td>\n",
       "    </tr>\n",
       "  </tbody>\n",
       "</table>\n",
       "<p>491401 rows × 2 columns</p>\n",
       "</div>"
      ],
      "text/plain": [
       "        tail_weight  tip_weight\n",
       "0              0.00         0.0\n",
       "1              0.01         0.0\n",
       "2              0.02         0.0\n",
       "3              0.03         0.0\n",
       "4              0.04         0.0\n",
       "...             ...         ...\n",
       "491396         6.96         7.0\n",
       "491397         6.97         7.0\n",
       "491398         6.98         7.0\n",
       "491399         6.99         7.0\n",
       "491400         7.00         7.0\n",
       "\n",
       "[491401 rows x 2 columns]"
      ]
     },
     "execution_count": 38,
     "metadata": {},
     "output_type": "execute_result"
    }
   ],
   "source": [
    "custom_df"
   ]
  },
  {
   "cell_type": "code",
   "execution_count": 39,
   "id": "0e729a18-8b78-47bc-80ed-83f47c05ec9b",
   "metadata": {},
   "outputs": [],
   "source": [
    "def delta_balance(M, L, b, m_tail, m_tip):\n",
    "    delta_b = ((L-b)*(M*b/L + m_tip) - b*(M*(L-b)/L + m_tail))/(M + m_tail + m_tip)\n",
    "    return b + delta_b"
   ]
  },
  {
   "cell_type": "code",
   "execution_count": 40,
   "id": "c47fb6d7-f411-4bb6-ae97-1928ec44bb9b",
   "metadata": {},
   "outputs": [],
   "source": [
    "def delta_swingweight(L, m_tail, m_tip):\n",
    "    return m_tail*(10**2) + m_tip*(L-10)**2"
   ]
  },
  {
   "cell_type": "code",
   "execution_count": 41,
   "id": "5b16b064-08c8-434e-985c-ae6cf500969b",
   "metadata": {},
   "outputs": [],
   "source": [
    "def delta_recoilweight(new_b, L, m_tail, m_tip):\n",
    "    return m_tail * (new_b**2) + m_tip * (L - new_b)**2"
   ]
  },
  {
   "cell_type": "code",
   "execution_count": 42,
   "id": "c59f3f86-2477-47ea-8334-a541c02e89a4",
   "metadata": {},
   "outputs": [],
   "source": [
    "custom_df['new_b'] = custom_df.apply(lambda row: delta_balance(349, 68.58, 31.8, row['tail_weight'], row['tip_weight']), axis=1) "
   ]
  },
  {
   "cell_type": "code",
   "execution_count": 43,
   "id": "0bfe7aef-59ec-47af-864f-6be6324e9630",
   "metadata": {},
   "outputs": [],
   "source": [
    "custom_df['delta_sw'] = custom_df.apply(lambda row: delta_swingweight(68.58, 0.001 * row['tail_weight'], 0.001 * row['tip_weight']), axis=1)"
   ]
  },
  {
   "cell_type": "code",
   "execution_count": 44,
   "id": "4ef9a008-6c09-4865-b6f6-2700bf23d33a",
   "metadata": {},
   "outputs": [],
   "source": [
    "custom_df['delta_rw'] = custom_df.apply(lambda row: delta_recoilweight(row['new_b'], 68.58, 0.001 * row['tail_weight'], 0.001 * row['tip_weight']), axis=1)"
   ]
  },
  {
   "cell_type": "code",
   "execution_count": 49,
   "id": "0d7e53fe-a801-44d4-8be3-e70ed10ae930",
   "metadata": {},
   "outputs": [
    {
     "data": {
      "text/html": [
       "<div>\n",
       "<style scoped>\n",
       "    .dataframe tbody tr th:only-of-type {\n",
       "        vertical-align: middle;\n",
       "    }\n",
       "\n",
       "    .dataframe tbody tr th {\n",
       "        vertical-align: top;\n",
       "    }\n",
       "\n",
       "    .dataframe thead th {\n",
       "        text-align: right;\n",
       "    }\n",
       "</style>\n",
       "<table border=\"1\" class=\"dataframe\">\n",
       "  <thead>\n",
       "    <tr style=\"text-align: right;\">\n",
       "      <th></th>\n",
       "      <th>tail_weight</th>\n",
       "      <th>tip_weight</th>\n",
       "      <th>new_b</th>\n",
       "      <th>delta_sw</th>\n",
       "      <th>delta_rw</th>\n",
       "    </tr>\n",
       "  </thead>\n",
       "  <tbody>\n",
       "    <tr>\n",
       "      <th>421200</th>\n",
       "      <td>6.0</td>\n",
       "      <td>6.0</td>\n",
       "      <td>31.88277</td>\n",
       "      <td>21.189698</td>\n",
       "      <td>14.179186</td>\n",
       "    </tr>\n",
       "  </tbody>\n",
       "</table>\n",
       "</div>"
      ],
      "text/plain": [
       "        tail_weight  tip_weight     new_b   delta_sw   delta_rw\n",
       "421200          6.0         6.0  31.88277  21.189698  14.179186"
      ]
     },
     "execution_count": 49,
     "metadata": {},
     "output_type": "execute_result"
    }
   ],
   "source": [
    "custom_df[(custom_df['tail_weight'] == 6) & (custom_df['tip_weight'] == 6)]"
   ]
  },
  {
   "cell_type": "code",
   "execution_count": 46,
   "id": "9bc2d6d8-0980-49a0-bc98-ba06fcd47704",
   "metadata": {},
   "outputs": [
    {
     "data": {
      "text/plain": [
       "<matplotlib.colorbar.Colorbar at 0x7f801167f250>"
      ]
     },
     "execution_count": 46,
     "metadata": {},
     "output_type": "execute_result"
    },
    {
     "data": {
      "image/png": "[encoded data removed]",
      "text/plain": [
       "<Figure size 640x480 with 2 Axes>"
      ]
     },
     "metadata": {},
     "output_type": "display_data"
    }
   ],
   "source": [
    "contourf(xv, yv, np.array(custom_df['delta_sw']).reshape(701, 701), levels=25)\n",
    "colorbar()"
   ]
  },
  {
   "cell_type": "code",
   "execution_count": 47,
   "id": "772903f4-25aa-45b4-84d6-691ca291d6b4",
   "metadata": {},
   "outputs": [
    {
     "data": {
      "text/plain": [
       "<matplotlib.colorbar.Colorbar at 0x7f80220e0fd0>"
      ]
     },
     "execution_count": 47,
     "metadata": {},
     "output_type": "execute_result"
    },
    {
     "data": {
      "image/png": "[encoded data removed]",
      "text/plain": [
       "<Figure size 640x480 with 2 Axes>"
      ]
     },
     "metadata": {},
     "output_type": "display_data"
    }
   ],
   "source": [
    "contourf(xv, yv, np.array(custom_df['delta_rw']).reshape(701, 701), levels=25)\n",
    "colorbar()"
   ]
  },
  {
   "cell_type": "code",
   "execution_count": 48,
   "id": "a568e7c4-935b-4d04-b894-9d4c36f4c975",
   "metadata": {},
   "outputs": [
    {
     "data": {
      "text/plain": [
       "<matplotlib.colorbar.Colorbar at 0x7f8042e4afd0>"
      ]
     },
     "execution_count": 48,
     "metadata": {},
     "output_type": "execute_result"
    },
    {
     "data": {
      "image/png": "[encoded data removed]",
      "text/plain": [
       "<Figure size 640x480 with 2 Axes>"
      ]
     },
     "metadata": {},
     "output_type": "display_data"
    }
   ],
   "source": [
    "contourf(xv, yv, np.array(custom_df['new_b'] - 33).reshape(701, 701), levels=25)\n",
    "colorbar()"
   ]
  },
  {
   "cell_type": "code",
   "execution_count": null,
   "id": "88a20edc-66a1-4767-8b8f-c763293cf6c8",
   "metadata": {},
   "outputs": [],
   "source": []
  }
 ],
 "metadata": {
  "kernelspec": {
   "display_name": "Python 3 (ipykernel)",
   "language": "python",
   "name": "python3"
  },
  "language_info": {
   "codemirror_mode": {
    "name": "ipython",
    "version": 3
   },
   "file_extension": ".py",
   "mimetype": "text/x-python",
   "name": "python",
   "nbconvert_exporter": "python",
   "pygments_lexer": "ipython3",
   "version": "3.9.13"
  }
 },
 "nbformat": 4,
 "nbformat_minor": 5
}
